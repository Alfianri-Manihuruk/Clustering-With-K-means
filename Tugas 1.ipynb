{
 "cells": [
  {
   "cell_type": "markdown",
   "id": "dc376d8d",
   "metadata": {},
   "source": [
    "# Algoritma Pemograman\n",
    "- Nama : Alfianri Manihuruk\n",
    "- NIM  : 120450088\n",
    "- Kelas: R"
   ]
  },
  {
   "cell_type": "markdown",
   "id": "869cec38",
   "metadata": {},
   "source": [
    "Membuat program yang dengan Outputnya string \"Hello world\" "
   ]
  },
  {
   "cell_type": "code",
   "execution_count": 2,
   "id": "f5b73ab4",
   "metadata": {},
   "outputs": [
    {
     "name": "stdout",
     "output_type": "stream",
     "text": [
      " Hello world\n"
     ]
    }
   ],
   "source": [
    "# Cara pertama\n",
    "string = \" Hello world\"\n",
    "print(string)"
   ]
  },
  {
   "cell_type": "code",
   "execution_count": 3,
   "id": "579fc7f7",
   "metadata": {},
   "outputs": [
    {
     "name": "stdout",
     "output_type": "stream",
     "text": [
      "Masukkan kata-kata kamu\n",
      "Hello world\n",
      "Hello world\n"
     ]
    }
   ],
   "source": [
    "# Cara Kedua\n",
    "string2 = input('Masukkan kata-kata kamu\\n')\n",
    "print(string2)"
   ]
  },
  {
   "cell_type": "code",
   "execution_count": 4,
   "id": "8e80a31a",
   "metadata": {},
   "outputs": [
    {
     "name": "stdout",
     "output_type": "stream",
     "text": [
      "hello world\n"
     ]
    }
   ],
   "source": [
    "# Cara ketiga\n",
    "print(\"hello world\")"
   ]
  },
  {
   "cell_type": "code",
   "execution_count": null,
   "id": "d6072281",
   "metadata": {},
   "outputs": [],
   "source": []
  }
 ],
 "metadata": {
  "kernelspec": {
   "display_name": "Python 3 (ipykernel)",
   "language": "python",
   "name": "python3"
  },
  "language_info": {
   "codemirror_mode": {
    "name": "ipython",
    "version": 3
   },
   "file_extension": ".py",
   "mimetype": "text/x-python",
   "name": "python",
   "nbconvert_exporter": "python",
   "pygments_lexer": "ipython3",
   "version": "3.9.12"
  }
 },
 "nbformat": 4,
 "nbformat_minor": 5
}
